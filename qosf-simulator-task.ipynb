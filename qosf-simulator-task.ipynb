{
 "cells": [
  {
   "cell_type": "markdown",
   "metadata": {},
   "source": [
    "# Task: Quantum Circuit Simulator"
   ]
  },
  {
   "cell_type": "code",
   "execution_count": 145,
   "metadata": {},
   "outputs": [],
   "source": [
    "import numpy as np\n",
    "import math\n",
    "import random\n",
    "import json"
   ]
  },
  {
   "cell_type": "code",
   "execution_count": 2,
   "metadata": {},
   "outputs": [],
   "source": [
    "def get_ground_state(num_qubits):\n",
    "    # return vector of size 2**num_qubits with all zeroes except first element which is 1\n",
    "    ground_state=np.zeros(2**num_qubits)\n",
    "    ground_state[0]=1\n",
    "    return ground_state"
   ]
  },
  {
   "cell_type": "markdown",
   "metadata": {},
   "source": [
    "In the begining, all qubits are initialized to $\\vert 0\\rangle$ - i.e. our initial state is $ \\vert\\underbrace{ 00...0}_{\\!\\!\\!\\!\\!\\!\\!\\text{number of qubits}\\!\\!\\!\\!\\!\\!\\!}\\rangle$"
   ]
  },
  {
   "cell_type": "markdown",
   "metadata": {},
   "source": [
    "Gates like $X$,$I$,$\\vert{0}\\rangle\\!\\langle{0}\\vert$ or $\\vert{1}\\rangle\\!\\langle{1}\\vert$ are going to be frequently used."
   ]
  },
  {
   "cell_type": "code",
   "execution_count": 3,
   "metadata": {},
   "outputs": [],
   "source": [
    "# Define gates used as building blocks for matrix operators:\n",
    "X = np.array([[0, 1],\n",
    "              [1, 0]])\n",
    "    \n",
    "I = np.identity(2)\n",
    "    \n",
    "#Projection operators |0><0| and |1><1|\n",
    "P0x0 = np.array([[1, 0],\n",
    "                 [0, 0]])\n",
    "P1x1 = np.array([[0, 0],\n",
    "                 [0, 1]])"
   ]
  },
  {
   "cell_type": "markdown",
   "metadata": {},
   "source": [
    "Function $\\bf cu$ returns matrix of the controlled unitary operator.\n",
    "\n",
    "control_qubit argument is the position of the control qubit and target_qubit is the position of the qubit on which $2x2$ gate_unitary is applied.\n",
    "\n",
    "It is an auxiliary function used to easily implement $\\bf SWAP$ functoin for arbitrary qubits."
   ]
  },
  {
   "cell_type": "markdown",
   "metadata": {},
   "source": [
    "$\\bf cu$ is implemented using operator decomposition into sum of Kronecker products, as derived for $CX$ case in [1]\n",
    "\n",
    "$O = I\\otimes I \\otimes ... \\otimes\\vert{0}\\rangle\\!\\langle{0}\\vert\\otimes I\\otimes ... \\otimes I\\otimes I\\otimes I \\otimes... \\otimes I + \\\\\n",
    "I\\otimes I \\otimes ... \\otimes\\vert{1}\\rangle\\!\\langle{1}\\vert\\otimes I\\otimes ... \\otimes I\\otimes X\\otimes I \\otimes... \\otimes I$"
   ]
  },
  {
   "cell_type": "code",
   "execution_count": 4,
   "metadata": {},
   "outputs": [],
   "source": [
    "def cu(total_qubits, gate_unitary, control_qubit, target_qubit):\n",
    "    \n",
    "    gate_unitary=np.array(gate_unitary)\n",
    "    \n",
    "    if (np.abs(gate_unitary.dot(gate_unitary.conj().T))-I>0.000000000001).any():\n",
    "        print(\"gate_unitary is not a unitary matrix.\")\n",
    "        return\n",
    "    \n",
    "    if control_qubit>=total_qubits:\n",
    "        print(\"Control qubit is out of bounds.\")\n",
    "        return\n",
    "    if target_qubit>=total_qubits:\n",
    "        print(\"Target qubit is out of bounds.\")\n",
    "        return\n",
    "    \n",
    "    #Final operator is sum of Kronecker products of elements of the lists 'op_control' and 'op_target'\n",
    "    op_control=[[1]]\n",
    "    op_target=[[1]]\n",
    "    for i in range(total_qubits):\n",
    "        if i==control_qubit:\n",
    "            A=P0x0\n",
    "            B=P1x1\n",
    "        elif i==target_qubit:\n",
    "            A=I\n",
    "            B=gate_unitary\n",
    "        else:\n",
    "            A=I\n",
    "            B=I\n",
    "        op_control=np.kron(op_control,A)\n",
    "        op_target=np.kron(op_target,B)\n",
    "    operator=op_control+op_target\n",
    "    \n",
    "    return operator"
   ]
  },
  {
   "cell_type": "markdown",
   "metadata": {},
   "source": [
    "The swap gate swaps two qubits.\n",
    "\n",
    "${SWAP} = \\begin{bmatrix} 1 & 0 & 0 & 0 \\\\\n",
    "                         0 & 0 & 1 & 0 \\\\\n",
    "                         0 & 1 & 0 & 0 \\\\\n",
    "                         0 & 0 & 0 & 1 \\\\\n",
    "         \\end{bmatrix}$\n",
    "         \n",
    "Although SWAP gate has a familiar matrix representation, it can be used only for 2 consecutive qubits.\n",
    "\n",
    "Swaping 2 arbitrary qubits is achievable by compositions of shifted two-qubit SWAP gates, but it is rather tedious and it is not vital for simulators.\n",
    "\n",
    "One possible decompositon of the SWAP gate is using three CX gates:"
   ]
  },
  {
   "cell_type": "code",
   "execution_count": 158,
   "metadata": {},
   "outputs": [
    {
     "data": {
      "image/png": "[encoded data removed]",
      "text/plain": [
       "<IPython.core.display.Image object>"
      ]
     },
     "execution_count": 158,
     "metadata": {},
     "output_type": "execute_result"
    }
   ],
   "source": [
    "from IPython.display import Image, display\n",
    "Image('img/xor-swap.png')"
   ]
  },
  {
   "cell_type": "markdown",
   "metadata": {},
   "source": [
    "$SWAP(0,1)=CX(0,1)CX(1,0)CX(0,1)$"
   ]
  },
  {
   "cell_type": "markdown",
   "metadata": {},
   "source": [
    "It can be quickly checked that this holds true for all four basis states, then by linearity, it holds true for any state."
   ]
  },
  {
   "cell_type": "markdown",
   "metadata": {},
   "source": [
    "Similarly, for any two qubits:\n",
    "\n",
    "$SWAP(a,b)=CX(a,b)CX(b,a)CX(a,b)$"
   ]
  },
  {
   "cell_type": "code",
   "execution_count": 5,
   "metadata": {},
   "outputs": [],
   "source": [
    "def swap(total_qubits, qubit1, qubit2):\n",
    "    \n",
    "    if(qubit1>=total_qubits or qubit2>=total_qubits):\n",
    "        print(\"Qubit is out of bounds.\")\n",
    "        return\n",
    "    \n",
    "    operator = np.dot(np.dot(cu(total_qubits, X, qubit1, qubit2),cu(total_qubits, X, qubit2, qubit1)),\n",
    "                      cu(total_qubits, X, qubit1, qubit2))\n",
    "    \n",
    "    return operator"
   ]
  },
  {
   "cell_type": "markdown",
   "metadata": {},
   "source": [
    "$\\bf mcu$ functon returns matrix operator for any number of total qubits, control qubits or target qubits."
   ]
  },
  {
   "cell_type": "markdown",
   "metadata": {},
   "source": [
    "If unitary gate should be applied to any number of target qubits, but is not using contol qubits, control_qubits argument should be set to [ ].\n",
    "\n",
    "Otherwise, positions of control qubits can be provided in any order and similarly for target qubits. Only in cases when, for example, 2 qubit gate should be applied to 4 qubits, it is assumed that the first two and the second two qubits are targeted together."
   ]
  },
  {
   "cell_type": "markdown",
   "metadata": {},
   "source": [
    "This function handles multiple qubit gates for non-consecutive qubits in the following way:\n",
    "\n",
    "- Let $n$ be the number of target qubits. Target qubits are swapped with last $n$ qubits. This way it is assured that the target qubits are adjacent as well as that there are no contol qubits between them, if any exist.\n",
    "\n",
    "- Unitary gate is applied to last $n$ qubits.\n",
    "\n",
    "- Target qubits are swapped back to original places using the same operator from step one, since SWAP is it's own inverse.\n",
    "\n",
    "[2]"
   ]
  },
  {
   "cell_type": "code",
   "execution_count": 72,
   "metadata": {},
   "outputs": [],
   "source": [
    "def mcu(total_qubits, gate_unitary, control_qubits, target_qubits):\n",
    "    # return unitary operator of size 2**n x 2**n for given gate and target qubits\n",
    "    \n",
    "    gate_unitary=np.array(gate_unitary)\n",
    "    \n",
    "    if (np.abs(gate_unitary.dot(gate_unitary.conj().T))-np.identity(gate_unitary.shape[0])>0.000000000001).any():\n",
    "        print(\"gate_unitary is not a unitary matrix\")\n",
    "        return\n",
    "    \n",
    "    if list(set(control_qubits) & set(target_qubits))!=[]:\n",
    "        print(\"Qubit can not be both control and target.\")\n",
    "        return\n",
    "    \n",
    "    test_c=[a for a in control_qubits if a>=total_qubits]\n",
    "    if test_c!=[]:\n",
    "        print(\"Control qubit is out of bounds.\")\n",
    "        return\n",
    "    test_t=[a for a in target_qubits if a>=total_qubits]\n",
    "    if test_t!=[]:\n",
    "        print(\"Target qubit is out of bounds.\")\n",
    "        return\n",
    "    \n",
    "    n=int(np.log2(gate_unitary.shape[0]))\n",
    "    \n",
    "    #if n>1, targeted qubits should be swaped to become adjacent to one another\n",
    "    #asumming that the positions of the qubits, which should be targeted together, are adjacent in the input\n",
    "    \n",
    "    #creating swap operator\n",
    "    swap_op=np.identity(2**total_qubits)\n",
    "    \n",
    "    m=len(target_qubits)\n",
    "    \n",
    "    if n>1:\n",
    "        #safe way to ensure that the target qubits are consecutive and\n",
    "        #that there are no control qubits between them is to swap\n",
    "        #m target qubits with m final qubits.\n",
    "\n",
    "        for i in range(m):\n",
    "            M=swap(total_qubits,target_qubits[m-i-1],total_qubits-i-1)\n",
    "            if total_qubits-i-1 in control_qubits:\n",
    "                control_qubits[control_qubits.index(total_qubits-i-1)]=target_qubits[m-i-1]\n",
    "            target_qubits[m-i-1]=total_qubits-i-1\n",
    "            swap_op=np.dot(swap_op,M)\n",
    "    \n",
    "    \n",
    "        \n",
    "    #Creating a lists of elements involved in decomposition of the final operator\n",
    "    # into sum od Kronecker products. Initialized to identities:\n",
    "    \n",
    "    lists=[[I]*total_qubits]*(2**len(control_qubits))\n",
    "\n",
    "    controls=[P0x0,P1x1]\n",
    "        \n",
    "    for x in range(2**len(control_qubits)):\n",
    "        i=0\n",
    "        for y in control_qubits:\n",
    "            binary=bin(x)\n",
    "            try:\n",
    "                lists[x][y]=controls[int(binary[len(binary)-1-i])]\n",
    "            except ValueError:\n",
    "                lists[x][y]=controls[0]\n",
    "            i=i+1\n",
    "\n",
    "        for k in range(int(m/n)):\n",
    "            if x==2**len(control_qubits)-1:\n",
    "                lists[x][target_qubits[k*n]]=gate_unitary\n",
    "                for l in range(1,n):\n",
    "                    lists[x][target_qubits[k*n+l]]=[[1]]\n",
    "        lists[x]=list(lists[x])\n",
    "\n",
    "        \n",
    "    #Final operator is sum of Kronecker products od elements from the previously created lists\n",
    "    list_op=[[1]]*(2**len(control_qubits))\n",
    "    for i in range(total_qubits):\n",
    "        for j in range(2**len(control_qubits)):\n",
    "            list_op[j]=np.kron(list_op[j],lists[j][i])\n",
    "\n",
    "        \n",
    "    operator=list_op[0]\n",
    "    for i in range(1,2**len(control_qubits)):\n",
    "        operator=operator+list_op[i]   \n",
    "\n",
    "    if(n>1):\n",
    "        operator = np.dot(np.dot(swap_op,operator),swap_op)\n",
    "        \n",
    "    return operator"
   ]
  },
  {
   "cell_type": "markdown",
   "metadata": {},
   "source": [
    "### Examples:"
   ]
  },
  {
   "cell_type": "markdown",
   "metadata": {},
   "source": [
    "#### Hadamard  \n",
    "$I \\otimes H$"
   ]
  },
  {
   "cell_type": "code",
   "execution_count": 76,
   "metadata": {},
   "outputs": [
    {
     "data": {
      "text/plain": [
       "array([[ 0.70710678,  0.70710678,  0.        ,  0.        ],\n",
       "       [ 0.70710678, -0.70710678,  0.        , -0.        ],\n",
       "       [ 0.        ,  0.        ,  0.70710678,  0.70710678],\n",
       "       [ 0.        , -0.        ,  0.70710678, -0.70710678]])"
      ]
     },
     "execution_count": 76,
     "metadata": {},
     "output_type": "execute_result"
    }
   ],
   "source": [
    "mcu(total_qubits=2, gate_unitary=[[1/np.sqrt(2),1/np.sqrt(2)],[1/np.sqrt(2),-1/np.sqrt(2)]],control_qubits=[],target_qubits=[1])"
   ]
  },
  {
   "cell_type": "markdown",
   "metadata": {},
   "source": [
    "$ I \\otimes H \\otimes H $"
   ]
  },
  {
   "cell_type": "code",
   "execution_count": 84,
   "metadata": {},
   "outputs": [
    {
     "data": {
      "text/plain": [
       "array([[ 0.5,  0.5,  0.5,  0.5,  0. ,  0. ,  0. ,  0. ],\n",
       "       [ 0.5, -0.5,  0.5, -0.5,  0. , -0. ,  0. , -0. ],\n",
       "       [ 0.5,  0.5, -0.5, -0.5,  0. ,  0. , -0. , -0. ],\n",
       "       [ 0.5, -0.5, -0.5,  0.5,  0. , -0. , -0. ,  0. ],\n",
       "       [ 0. ,  0. ,  0. ,  0. ,  0.5,  0.5,  0.5,  0.5],\n",
       "       [ 0. , -0. ,  0. , -0. ,  0.5, -0.5,  0.5, -0.5],\n",
       "       [ 0. ,  0. , -0. , -0. ,  0.5,  0.5, -0.5, -0.5],\n",
       "       [ 0. , -0. , -0. ,  0. ,  0.5, -0.5, -0.5,  0.5]])"
      ]
     },
     "execution_count": 84,
     "metadata": {},
     "output_type": "execute_result"
    }
   ],
   "source": [
    "mcu(total_qubits=3, gate_unitary=[[1/np.sqrt(2),1/np.sqrt(2)],[1/np.sqrt(2),-1/np.sqrt(2)]],control_qubits=[],target_qubits=[1,2])"
   ]
  },
  {
   "cell_type": "markdown",
   "metadata": {},
   "source": [
    "#### CX"
   ]
  },
  {
   "cell_type": "code",
   "execution_count": 61,
   "metadata": {},
   "outputs": [
    {
     "data": {
      "text/plain": [
       "array([[1., 0., 0., 0.],\n",
       "       [0., 1., 0., 0.],\n",
       "       [0., 0., 0., 1.],\n",
       "       [0., 0., 1., 0.]])"
      ]
     },
     "execution_count": 61,
     "metadata": {},
     "output_type": "execute_result"
    }
   ],
   "source": [
    "mcu(total_qubits=2, gate_unitary=X,control_qubits=[0],target_qubits=[1])"
   ]
  },
  {
   "cell_type": "markdown",
   "metadata": {},
   "source": [
    "#### Toffoli"
   ]
  },
  {
   "cell_type": "code",
   "execution_count": 60,
   "metadata": {},
   "outputs": [
    {
     "data": {
      "text/plain": [
       "array([[1., 0., 0., 0., 0., 0., 0., 0.],\n",
       "       [0., 1., 0., 0., 0., 0., 0., 0.],\n",
       "       [0., 0., 1., 0., 0., 0., 0., 0.],\n",
       "       [0., 0., 0., 1., 0., 0., 0., 0.],\n",
       "       [0., 0., 0., 0., 1., 0., 0., 0.],\n",
       "       [0., 0., 0., 0., 0., 1., 0., 0.],\n",
       "       [0., 0., 0., 0., 0., 0., 0., 1.],\n",
       "       [0., 0., 0., 0., 0., 0., 1., 0.]])"
      ]
     },
     "execution_count": 60,
     "metadata": {},
     "output_type": "execute_result"
    }
   ],
   "source": [
    "mcu(total_qubits=3, gate_unitary=X,control_qubits=[0,1],target_qubits=[2])"
   ]
  },
  {
   "cell_type": "markdown",
   "metadata": {},
   "source": [
    "#### CSWAP"
   ]
  },
  {
   "cell_type": "code",
   "execution_count": 59,
   "metadata": {},
   "outputs": [
    {
     "data": {
      "text/plain": [
       "array([[1., 0., 0., 0., 0., 0., 0., 0.],\n",
       "       [0., 1., 0., 0., 0., 0., 0., 0.],\n",
       "       [0., 0., 1., 0., 0., 0., 0., 0.],\n",
       "       [0., 0., 0., 1., 0., 0., 0., 0.],\n",
       "       [0., 0., 0., 0., 1., 0., 0., 0.],\n",
       "       [0., 0., 0., 0., 0., 0., 1., 0.],\n",
       "       [0., 0., 0., 0., 0., 1., 0., 0.],\n",
       "       [0., 0., 0., 0., 0., 0., 0., 1.]])"
      ]
     },
     "execution_count": 59,
     "metadata": {},
     "output_type": "execute_result"
    }
   ],
   "source": [
    "mcu(total_qubits=3, gate_unitary=swap(2,0,1),control_qubits=[0],target_qubits=[1,2])"
   ]
  },
  {
   "cell_type": "markdown",
   "metadata": {},
   "source": [
    "#### C(2)SWAP(0,1)SWAP(3,4)"
   ]
  },
  {
   "cell_type": "code",
   "execution_count": 85,
   "metadata": {},
   "outputs": [
    {
     "data": {
      "text/plain": [
       "array([[1., 0., 0., ..., 0., 0., 0.],\n",
       "       [0., 1., 0., ..., 0., 0., 0.],\n",
       "       [0., 0., 1., ..., 0., 0., 0.],\n",
       "       ...,\n",
       "       [0., 0., 0., ..., 0., 1., 0.],\n",
       "       [0., 0., 0., ..., 1., 0., 0.],\n",
       "       [0., 0., 0., ..., 0., 0., 1.]])"
      ]
     },
     "execution_count": 85,
     "metadata": {},
     "output_type": "execute_result"
    }
   ],
   "source": [
    "mcu(total_qubits=5, gate_unitary=swap(2,0,1) ,control_qubits=[2],target_qubits=[0,1,3,4])"
   ]
  },
  {
   "cell_type": "code",
   "execution_count": 108,
   "metadata": {},
   "outputs": [],
   "source": [
    "def run_program(initial_state, program):\n",
    "    # read program, and for each gate:\n",
    "    #   - calculate matrix operator\n",
    "    #   - multiply state with operator\n",
    "    # return final state\n",
    "    state=initial_state\n",
    "    \n",
    "    for x in program:\n",
    "        operator=mcu(total_qubits=int(np.log2(len(initial_state))),gate_unitary=x['unitary'],\n",
    "                     control_qubits=x['control'],target_qubits=x['target'])\n",
    "        \n",
    "        state=np.dot(state,operator)    \n",
    "    \n",
    "    return state"
   ]
  },
  {
   "cell_type": "code",
   "execution_count": 126,
   "metadata": {},
   "outputs": [],
   "source": [
    "my_circuit = [\n",
    "{ \"unitary\": [[1/np.sqrt(2),1/np.sqrt(2)],[1/np.sqrt(2),-1/np.sqrt(2)]],\"control\": [], \"target\": [0] }, \n",
    "{ \"unitary\": [[0,1],[1,0]], \"control\": [0], \"target\": [1] }\n",
    "]"
   ]
  },
  {
   "cell_type": "code",
   "execution_count": 134,
   "metadata": {},
   "outputs": [
    {
     "data": {
      "text/plain": [
       "array([0.70710678, 0.        , 0.        , 0.70710678])"
      ]
     },
     "execution_count": 134,
     "metadata": {},
     "output_type": "execute_result"
    }
   ],
   "source": [
    "run_program(get_ground_state(2),my_circuit)"
   ]
  },
  {
   "cell_type": "code",
   "execution_count": 136,
   "metadata": {},
   "outputs": [],
   "source": [
    "def measure_all(state_vector):\n",
    "    # choose element from state_vector using weighted random and return it's index\n",
    "    \n",
    "    choice = random.choices(range(len(state_vector)),weights=state_vector*np.conj(state_vector))\n",
    "    \n",
    "    return choice[0]"
   ]
  },
  {
   "cell_type": "code",
   "execution_count": 137,
   "metadata": {},
   "outputs": [
    {
     "data": {
      "text/plain": [
       "0"
      ]
     },
     "execution_count": 137,
     "metadata": {},
     "output_type": "execute_result"
    }
   ],
   "source": [
    "measure_all(run_program(get_ground_state(2),my_circuit))"
   ]
  },
  {
   "cell_type": "code",
   "execution_count": 153,
   "metadata": {},
   "outputs": [],
   "source": [
    "def get_counts(state_vector, num_shots):\n",
    "    # simply execute measure_all in a loop num_shots times and\n",
    "    # return object with statistics in following form:\n",
    "    #   {\n",
    "    #      element_index: number_of_ocurrences,\n",
    "    #      element_index: number_of_ocurrences,\n",
    "    #      element_index: number_of_ocurrences,\n",
    "    #      ...\n",
    "    #   }\n",
    "    # (only for elements which occoured - returned from measure_all)\n",
    "    \n",
    "    result=dict()\n",
    "    n=int(np.log2(len(state_vector)))\n",
    "    \n",
    "    for i in range(num_shots):\n",
    "        index=measure_all(state_vector)\n",
    "        \n",
    "        index=bin(index)[2:]\n",
    "        if len(index)<n:\n",
    "            index=\"0\"*(n-len(index))+index\n",
    "        \n",
    "        if index not in result:\n",
    "            result[index]=1\n",
    "        else:\n",
    "            result[index]=result[index]+1\n",
    "    \n",
    "    return json.dumps(result, indent=2**n)"
   ]
  },
  {
   "cell_type": "code",
   "execution_count": 154,
   "metadata": {},
   "outputs": [],
   "source": [
    "counts=get_counts(run_program(get_ground_state(2),my_circuit),1000)"
   ]
  },
  {
   "cell_type": "code",
   "execution_count": 155,
   "metadata": {},
   "outputs": [
    {
     "name": "stdout",
     "output_type": "stream",
     "text": [
      "{\n",
      "    \"11\": 504,\n",
      "    \"00\": 496\n",
      "}\n"
     ]
    }
   ],
   "source": [
    "print(counts)"
   ]
  },
  {
   "cell_type": "markdown",
   "metadata": {},
   "source": [
    "### Example usage"
   ]
  },
  {
   "cell_type": "markdown",
   "metadata": {},
   "source": [
    "Unitary gate in the following program is the gate which is applied only to target qubits. That is true for operators using control qubits as well, meaning that, for example, if $\\bf CX$ gate should be in the circuit, only matrix for $ \\bf X$ gate should be provided."
   ]
  },
  {
   "cell_type": "code",
   "execution_count": 156,
   "metadata": {},
   "outputs": [
    {
     "name": "stdout",
     "output_type": "stream",
     "text": [
      "{\n",
      "    \"11\": 505,\n",
      "    \"00\": 495\n",
      "}\n"
     ]
    }
   ],
   "source": [
    "# Define program:\n",
    "\n",
    "my_circuit = [\n",
    "{ \"unitary\": [[1/np.sqrt(2),1/np.sqrt(2)],[1/np.sqrt(2),-1/np.sqrt(2)]],\"control\": [], \"target\": [0] }, \n",
    "{ \"unitary\": [[0,1],[1,0]], \"control\": [0], \"target\": [1] }\n",
    "]\n",
    "\n",
    "\n",
    "# Create \"quantum computer\" with 2 qubits (this is actually just a vector :) )\n",
    "\n",
    "my_qpu = get_ground_state(2)\n",
    "\n",
    "\n",
    "# Run circuit\n",
    "\n",
    "final_state = run_program(my_qpu, my_circuit)\n",
    "\n",
    "\n",
    "# Read results\n",
    "\n",
    "counts = get_counts(final_state, 1000)\n",
    "\n",
    "print(counts)"
   ]
  },
  {
   "cell_type": "markdown",
   "metadata": {},
   "source": [
    "### References:"
   ]
  },
  {
   "cell_type": "markdown",
   "metadata": {},
   "source": [
    "[1] - [qosf-simulator-task-additional-info.pdf](https://github.com/quantastica/qosf-mentorship/blob/master/qosf-simulator-task-additional-info.pdf)"
   ]
  },
  {
   "cell_type": "markdown",
   "metadata": {},
   "source": [
    "[2] - [G. Sergioli - Quantum circuit optimization for unitary operators overnon-adjacent qudits](https://arxiv.org/pdf/1711.09765.pdf)"
   ]
  }
 ],
 "metadata": {
  "kernelspec": {
   "display_name": "Python 3",
   "language": "python",
   "name": "python3"
  },
  "language_info": {
   "codemirror_mode": {
    "name": "ipython",
    "version": 3
   },
   "file_extension": ".py",
   "mimetype": "text/x-python",
   "name": "python",
   "nbconvert_exporter": "python",
   "pygments_lexer": "ipython3",
   "version": "3.6.8"
  }
 },
 "nbformat": 4,
 "nbformat_minor": 4
}
